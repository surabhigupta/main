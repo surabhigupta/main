{
 "cells": [
  {
   "cell_type": "markdown",
   "metadata": {},
   "source": [
    "# GloVe: Global Vectors for Word Representation (25 points)\n",
    "\n",
    "[GloVe](http://nlp.stanford.edu/projects/glove/) \\[[PDF](http://nlp.stanford.edu/pubs/glove.pdf)\\] is (yet) another way to train word vectors.  Its main advantage relative to Word2Vec is its training speed.\n",
    "\n",
    "## Approach\n",
    "The intuition of the GloVe approach to training word vectors is as follows:\n",
    "\n",
    "1. From the training data, estimate $P(k | word)$.\n",
    "2. Notice that some words, $k$, are far more common than others in the context of $word$.\n",
    "3. In particular, in the table below, notice in the bottom row that $k$'s that are related to ice (vs. steam) result in quite large numbers where as those related to steam (vs. ice) are incredibly low.  Unrelated numbers are about 1.0.\n",
    "\n",
    "<img src=\"glove_table.png\">\n",
    "\n",
    "At a high level then training $F(w_i, w_j, \\tilde{w}_k) = \\frac{P_{ij}}{P_{jk}}$ seems like a useful thing to do.  In this case, F is a (simple) neural network accepting word vectors $w_i$ and $w_j$ for words $i$ and $j$, and a context vector $\\tilde{w}_k$ for word $k$.\n",
    "\n",
    "With some reasonable assumptions about desireable properties of vector embeddings (see Section 3 of the paper), the authors make this more concrete and simplify to a simple objective function based directly on the cooccurrence matrix instead of probabilities:\n",
    "\n",
    "$$J = \\sum\\limits_{i,j}^V f(X_{ij})(w_i^T\\tilde{w}_j + b_i + \\tilde{b}_j - log(X_{ij}))^2$$\n",
    "\n",
    "where $f(.)$ is the weight of the $j$'th word appearing in the $i$th word's context window $X_{ij}$ times.  This weighting function is described in detail immediately before Equation (9) in the paper.\n",
    "\n",
    "Note that $f(0) = 0$ pairs $i,j$ where $X_{ij} = 0$ can be skipped in the sum above.\n",
    "\n",
    "## vs. Word2Vec\n",
    "Similar to Word2Vec, GloVe embeds words in a vector space based on the \"[company it keeps](https://en.wikipedia.org/wiki/John_Rupert_Firth)\" - based on cooccurrance between words in small context windows.  Unlike Word2Vec which repeatedly iterates over the training data one context window at a time, GloVe does a single pass over the training data to collect cooccurrance statistics.  GloVe then trains entirely based on this table of counts.\n",
    "\n",
    "## The Plan\n",
    "In this assignment, you are going to train GloVe models and visualize them.\n",
    "\n",
    "1. Parsing utilities.\n",
    "\n",
    "2. Phrases.  Implement Section 4 (Equation 6) of the [Word2Vec](https://papers.nips.cc/paper/5021-distributed-representations-of-words-and-phrases-and-their-compositionality.pdf) paper.  This allows us to treat \"los angeles\" as a single item in our vocabulary.\n",
    "\n",
    "3. Implement TensorFlow for GloVe & Train embeddings.\n",
    "\n",
    "5. Visualize embeddings.\n",
    "\n",
    "\n",
    "As usual, we begin by importing some useful libraries."
   ]
  },
  {
   "cell_type": "code",
   "execution_count": 1,
   "metadata": {
    "collapsed": false
   },
   "outputs": [
    {
     "data": {
      "text/plain": [
       "<module 'word_utils' from 'word_utils.pyc'>"
      ]
     },
     "execution_count": 1,
     "metadata": {},
     "output_type": "execute_result"
    }
   ],
   "source": [
    "import glove\n",
    "import glove_test\n",
    "import nltk\n",
    "import numpy as np\n",
    "import random\n",
    "import tensorflow as tf\n",
    "import time\n",
    "import unittest\n",
    "import word_stream\n",
    "import word_stream_test\n",
    "import word_utils\n",
    "reload(glove)\n",
    "reload(glove_test)\n",
    "reload(word_stream)\n",
    "reload(word_stream_test)\n",
    "reload(word_utils)"
   ]
  },
  {
   "cell_type": "code",
   "execution_count": 4,
   "metadata": {
    "collapsed": false
   },
   "outputs": [],
   "source": [
    "# Lower casing sometimes causes more harm than good,\n",
    "# but we do it here anyways in absence of more careful normalization.\n",
    "\n",
    "# The Brown corpus is only 1m tokens.  Test your code with this, then if you want, run with Wikipedia.\n",
    "words = [w.lower() for w in nltk.corpus.brown.words()]\n",
    "# Use first billion bytes of Wikipedia, consisting of 17m tokens.  While this produces better\n",
    "# embeddings, all of the code runs correspondingly longer.  We recommend getting everything to work\n",
    "# with the Brown corpus before trying this.\n",
    "\n",
    "# If you are going to try this using Google Compute Engine, we recommend using the\n",
    "# n1-highcpu-16 (16 vCPUs, 14.4 GB memory) version.\n",
    "\n",
    "# You should not spend time debugging on this instance though or you will find yourself\n",
    "# without GCE credit!\n",
    "\n",
    "# words = open('text8').read().split()"
   ]
  },
  {
   "cell_type": "markdown",
   "metadata": {},
   "source": [
    "The data looks like this:"
   ]
  },
  {
   "cell_type": "code",
   "execution_count": 6,
   "metadata": {
    "collapsed": false
   },
   "outputs": [
    {
     "name": "stdout",
     "output_type": "stream",
     "text": [
      "[u'the', u'fulton', u'county', u'grand', u'jury', u'said', u'friday', u'an', u'investigation', u'of'] 1161192\n"
     ]
    }
   ],
   "source": [
    "print words[:10], len(words)"
   ]
  },
  {
   "cell_type": "markdown",
   "metadata": {},
   "source": [
    "## 1.  Parsing Utilities (8 points)\n",
    "\n",
    "In **word_stream.py** (find this in the same directory as this notebook), implement:\n",
    "1.  context_windows\n",
    "2.  cooccurrence_table\n",
    "\n",
    "You may find it helpful to run the follow unit tests to check your code."
   ]
  },
  {
   "cell_type": "code",
   "execution_count": 53,
   "metadata": {
    "collapsed": false
   },
   "outputs": [
    {
     "name": "stderr",
     "output_type": "stream",
     "text": [
      "test_context_windows (word_stream_test.TestWordStreams) ... ok\n",
      "\n",
      "----------------------------------------------------------------------\n",
      "Ran 1 test in 0.008s\n",
      "\n",
      "OK\n"
     ]
    },
    {
     "data": {
      "text/plain": [
       "<unittest.runner.TextTestResult run=1 errors=0 failures=0>"
      ]
     },
     "execution_count": 53,
     "metadata": {},
     "output_type": "execute_result"
    }
   ],
   "source": [
    "reload(word_stream)\n",
    "reload(word_stream_test)\n",
    "unittest.TextTestRunner(verbosity=2).run(\n",
    "    unittest.TestLoader().loadTestsFromName(\n",
    "        'TestWordStreams.test_context_windows', word_stream_test))"
   ]
  },
  {
   "cell_type": "code",
   "execution_count": 54,
   "metadata": {
    "collapsed": false
   },
   "outputs": [
    {
     "name": "stderr",
     "output_type": "stream",
     "text": [
      "test_cooccurrence_table (word_stream_test.TestWordStreams) ... ok\n",
      "\n",
      "----------------------------------------------------------------------\n",
      "Ran 1 test in 0.011s\n",
      "\n",
      "OK\n"
     ]
    },
    {
     "data": {
      "text/plain": [
       "<unittest.runner.TextTestResult run=1 errors=0 failures=0>"
      ]
     },
     "execution_count": 54,
     "metadata": {},
     "output_type": "execute_result"
    }
   ],
   "source": [
    "reload(word_stream)\n",
    "reload(word_stream_test)\n",
    "unittest.TextTestRunner(verbosity=2).run(\n",
    "    unittest.TestLoader().loadTestsFromName(\n",
    "        'TestWordStreams.test_cooccurrence_table', word_stream_test))"
   ]
  },
  {
   "cell_type": "markdown",
   "metadata": {},
   "source": [
    "## 2.  Phrases (4 points)\n",
    "\n",
    "Implement the function **score_bigram** in **word_stream.py**.\n",
    "Specifically, read the introduction to Section 4 of the [Word2Vec](https://papers.nips.cc/paper/5021-distributed-representations-of-words-and-phrases-and-their-compositionality.pdf) paper and implement Equation 6."
   ]
  },
  {
   "cell_type": "code",
   "execution_count": 55,
   "metadata": {
    "collapsed": false
   },
   "outputs": [
    {
     "name": "stderr",
     "output_type": "stream",
     "text": [
      "test_score_bigram (word_stream_test.TestWordStreams) ... ok\n",
      "\n",
      "----------------------------------------------------------------------\n",
      "Ran 1 test in 0.007s\n",
      "\n",
      "OK\n"
     ]
    },
    {
     "data": {
      "text/plain": [
       "<unittest.runner.TextTestResult run=1 errors=0 failures=0>"
      ]
     },
     "execution_count": 55,
     "metadata": {},
     "output_type": "execute_result"
    }
   ],
   "source": [
    "reload(word_stream)\n",
    "reload(word_stream_test)\n",
    "unittest.TextTestRunner(verbosity=2).run(\n",
    "    unittest.TestLoader().loadTestsFromName(\n",
    "        'TestWordStreams.test_score_bigram', word_stream_test))"
   ]
  },
  {
   "cell_type": "markdown",
   "metadata": {},
   "source": [
    "Use your scoring code to see the best scoring phrases."
   ]
  },
  {
   "cell_type": "code",
   "execution_count": 25,
   "metadata": {
    "collapsed": false
   },
   "outputs": [
    {
     "data": {
      "text/plain": [
       "[(0.002338180781294554, (u'rhode', u'island')),\n",
       " (0.0016694200504303973, (u'per', u'cent')),\n",
       " (0.0011766891682665512, (u'united', u'states')),\n",
       " (0.0009649848359525779, (u'u.', u's.')),\n",
       " (0.0004982076675375174, (u'new', u'york')),\n",
       " (0.00037655113393239196, (u'years', u'ago')),\n",
       " (0.00029365393433458334, (u'!', u'!')),\n",
       " (0.0002295684113865932, (u'peace', u'corps')),\n",
       " (0.0001947069660161457, (u'rather', u'than')),\n",
       " (0.00015987326410336534, (u'no', u'longer')),\n",
       " (0.00013676356618596807, (u'at', u'least')),\n",
       " (0.0001282818081688548, (u'i', u'am')),\n",
       " (0.00010424873056965529, (u'?', u'?')),\n",
       " (0.00010131712259371833, (u'fiscal', u'year')),\n",
       " (9.79507878916501e-05, (u'high', u'school')),\n",
       " (9.460133208902753e-05, (u'less', u'than')),\n",
       " (9.155453548053521e-05, (u'more', u'than')),\n",
       " (8.824947008355875e-05, (u';', u';')),\n",
       " (8.581961215511139e-05, (u'has', u'been')),\n",
       " (8.344343230651554e-05, (u'white', u'house')),\n",
       " (8.14961863964058e-05, (u'those', u'who')),\n",
       " (8.124101362189477e-05, (u'did', u'not')),\n",
       " (7.871726636402263e-05, (u'does', u'not')),\n",
       " (6.294850812035755e-05, (u'last', u'year')),\n",
       " (6.157241161896036e-05, (u'have', u'been')),\n",
       " (5.6305009354309506e-05, (u'too', u'much')),\n",
       " (5.595496366237374e-05, (u'had', u'been')),\n",
       " (5.5534987041836354e-05, (u'difference', u'between')),\n",
       " (5.174140739453582e-05, (u'should', u'be')),\n",
       " (5.0900184737729316e-05, (u\"don't\", u'know')),\n",
       " (5.0505050505050505e-05, (u'even', u'though')),\n",
       " (4.9845965131663785e-05, (u'must', u'be')),\n",
       " (4.75620101840941e-05, (u'their', u'own')),\n",
       " (4.6296296296296294e-05, (u'let', u'us')),\n",
       " (4.585845575117604e-05, (u'may', u'be')),\n",
       " (4.439170373193474e-05, (u'for', u'example')),\n",
       " (4.435299279739078e-05, (u'i', u\"don't\")),\n",
       " (4.277055430638381e-05, (u'his', u'own')),\n",
       " (4.273364392509429e-05, (u'2', u')')),\n",
       " (4.232130023345968e-05, (u'1', u')')),\n",
       " (4.1049854592292846e-05, (u'same', u'time')),\n",
       " (4.0442320401584275e-05, (u'can', u'be')),\n",
       " (4.014613192018949e-05, (u'away', u'from')),\n",
       " (3.989134594647828e-05, (u'based', u'on')),\n",
       " (3.95023563847259e-05, (u'as', u'well')),\n",
       " (3.8338518161503746e-05, (u'world', u'war')),\n",
       " (3.792862224454322e-05, (u'will', u'be')),\n",
       " (3.751706691570853e-05, (u'each', u'other')),\n",
       " (3.280759167671399e-05, (u'no', u'doubt')),\n",
       " (3.264740976345386e-05, (u'i', u'think')),\n",
       " (3.221714524128371e-05, (u'they', u'were')),\n",
       " (3.218317856325277e-05, (u'would', u'be')),\n",
       " (3.134796238244514e-05, (u'an', u'hour')),\n",
       " (3.032325153515401e-05, (u':', u'``')),\n",
       " (3.0108417184379107e-05, (u'so', u'much')),\n",
       " (2.9935953241659195e-05, (u'could', u'see')),\n",
       " (2.9465458959004143e-05, (u'his', u'wife')),\n",
       " (2.9357782371527807e-05, (u'well', u'as')),\n",
       " (2.93526494883981e-05, (u'fact', u'that')),\n",
       " (2.6969589091340604e-05, (u'his', u'head')),\n",
       " (2.6835651933660403e-05, (u'might', u'be')),\n",
       " (2.597127947508334e-05, (u'``', u'oh')),\n",
       " (2.5304650485483248e-05, (u'do', u'not')),\n",
       " (2.5194719186858436e-05, (u'last', u'night')),\n",
       " (2.4955186855943794e-05, (u'able', u'to')),\n",
       " (2.4863094083069652e-05, (u'would', u'have')),\n",
       " (2.4506315429785392e-05, (u'if', u'you')),\n",
       " (2.4506112715642652e-05, (u'you', u'know')),\n",
       " (2.378234398782344e-05, (u'might', u'have')),\n",
       " (2.3703687178257304e-05, (u'its', u'own')),\n",
       " (2.3692665418185555e-05, (u'there', u'are')),\n",
       " (2.3483665199392702e-05, (u'according', u'to')),\n",
       " (2.3433472371936072e-05, (u'in', u'addition')),\n",
       " (2.331387760357728e-05, (u'a', u'few')),\n",
       " (2.228729629547084e-05, (u'all', u'right')),\n",
       " (2.1786786989832332e-05, (u'must', u'have')),\n",
       " (2.1460949469727932e-05, (u'look', u'at')),\n",
       " (2.1386952419163736e-05, (u\"''\", u'!')),\n",
       " (2.130787752232e-05, (u'old', u'man')),\n",
       " (2.1040409274924117e-05, (u'(', u'1')),\n",
       " (2.0971335530046384e-05, (u\"''\", u'?')),\n",
       " (2.047027295482842e-05, (u'we', u'have')),\n",
       " (2.0170019189662444e-05, (u'trying', u'to')),\n",
       " (2.0092084254592605e-05, (u'there', u'were')),\n",
       " (1.9867944396246282e-05, (u'he', u'said')),\n",
       " (1.9785344681763015e-05, (u'could', u'be')),\n",
       " (1.9613227160396972e-05, (u'she', u'said')),\n",
       " (1.9532913145389112e-05, (u'there', u'was')),\n",
       " (1.9414836818296542e-05, (u'told', u'him')),\n",
       " (1.9406497776324486e-05, (u'you', u'can')),\n",
       " (1.8860475233681288e-05, (u'they', u'are')),\n",
       " (1.856215136689244e-05, (u'could', u'not')),\n",
       " (1.8502933471364442e-05, (u'number', u'of')),\n",
       " (1.849029817777491e-05, (u'not', u'only')),\n",
       " (1.8416036684745076e-05, (u'(', u'2')),\n",
       " (1.8239604730722515e-05, (u'there', u'is')),\n",
       " (1.8012766452410558e-05, (u'going', u'to')),\n",
       " (1.773867385674247e-05, (u'so', u'far')),\n",
       " (1.7600498848424504e-05, (u'her', u'husband')),\n",
       " (1.7560707916037864e-05, (u'with', u'respect')),\n",
       " (1.740465249825933e-05, (u'he', u'had')),\n",
       " (1.7192035934480927e-05, (u'do', u'you')),\n",
       " (1.6893295677632324e-05, (u'she', u'had')),\n",
       " (1.67005626233986e-05, (u'you', u'want')),\n",
       " (1.638526568814711e-05, (u'we', u'can')),\n",
       " (1.637833354922955e-05, (u'we', u'must')),\n",
       " (1.6182777980554678e-05, (u'of', u'course')),\n",
       " (1.603526131378025e-05, (u'it', u'is')),\n",
       " (1.5793690876756916e-05, (u'kind', u'of')),\n",
       " (1.576609631137892e-05, (u'such', u'as')),\n",
       " (1.5741444524900715e-05, (u'tried', u'to')),\n",
       " (1.572387655438128e-05, (u'looked', u'at')),\n",
       " (1.5593936170333415e-05, (u'i', u'know')),\n",
       " (1.556483743368643e-05, (u'``', u\"i'm\")),\n",
       " (1.5113510417716217e-05, (u'he', u'knew')),\n",
       " (1.50461051913773e-05, (u'he', u'could')),\n",
       " (1.4636881127147697e-05, (u'to', u'make')),\n",
       " (1.4614692542514497e-05, (u'his', u'eyes')),\n",
       " (1.4587306854940174e-05, (u'cannot', u'be')),\n",
       " (1.4519773026908044e-05, (u'be', u'able')),\n",
       " (1.449184339504579e-05, (u'it', u'was')),\n",
       " (1.4294285687403151e-05, (u'may', u'have')),\n",
       " (1.4036705986153792e-05, (u'a', u'single')),\n",
       " (1.3987948738544471e-05, (u'we', u'are')),\n",
       " (1.398002475200172e-05, (u'man', u'who')),\n",
       " (1.3731736790069209e-05, (u'part', u'of')),\n",
       " (1.3695495653962713e-05, (u'however', u',')),\n",
       " (1.365899983411504e-05, (u'when', u'he')),\n",
       " (1.3632112895706156e-05, (u'other', u'hand')),\n",
       " (1.3578815689642588e-05, (u'a', u'lot')),\n",
       " (1.3457879178671485e-05, (u'shall', u'be')),\n",
       " (1.3170433332898204e-05, (u'want', u'to')),\n",
       " (1.3099514701508293e-05, (u'his', u'face')),\n",
       " (1.3022018885040216e-05, (u'a', u'little')),\n",
       " (1.2972679078650483e-05, (u'seemed', u'to')),\n",
       " (1.2794207259016644e-05, (u'he', u'saw')),\n",
       " (1.2589259093433742e-05, (u'in', u'order')),\n",
       " (1.2457268972161117e-05, (u'who', u'had')),\n",
       " (1.2439667612081405e-05, (u'he', u'did')),\n",
       " (1.2361555917337884e-05, (u'she', u'was')),\n",
       " (1.2277810007029046e-05, (u'know', u'what')),\n",
       " (1.2249684085751464e-05, (u'to', u'get')),\n",
       " (1.2103460379322449e-05, (u'seems', u'to')),\n",
       " (1.2041640074711502e-05, (u'the', u'same')),\n",
       " (1.2019035835841403e-05, (u'to', u'keep')),\n",
       " (1.1964692848803885e-05, (u'``', u'i')),\n",
       " (1.190035436610779e-05, (u'it', u'seems')),\n",
       " (1.1899161944555982e-05, (u'likely', u'to')),\n",
       " (1.174738176260256e-05, (u'instead', u'of')),\n",
       " (1.1730727224186333e-05, (u'an', u'old')),\n",
       " (1.1661642736740183e-05, (u'a', u'couple')),\n",
       " (1.1554754128228968e-05, (u'sort', u'of')),\n",
       " (1.1542202720291636e-05, (u'just', u'as')),\n",
       " (1.1361073666905817e-05, (u'no', u'one')),\n",
       " (1.134449253248779e-05, (u'he', u'thought')),\n",
       " (1.1164286192755123e-05, (u'wanted', u'to')),\n",
       " (1.1162960678213404e-05, (u'aj', u'.')),\n",
       " (1.1076298194435345e-05, (u'he', u'was')),\n",
       " (1.1027660312773853e-05, (u'began', u'to')),\n",
       " (1.0989724607491996e-05, (u'had', u'gone')),\n",
       " (1.0985389432055367e-05, (u'lack', u'of')),\n",
       " (1.0904166114905376e-05, (u'in', u'fact')),\n",
       " (1.0817233952552706e-05, (u'they', u'had')),\n",
       " (1.0815448787047418e-05, (u'in', u'front')),\n",
       " (1.0732486222170812e-05, (u'be', u'sure')),\n",
       " (1.0684149496626312e-05, (u'seem', u'to')),\n",
       " (1.0448660531239613e-05, (u'to', u'see')),\n",
       " (1.0323148973362835e-05, (u'be', u'done')),\n",
       " (1.0268036833501729e-05, (u'he', u'felt')),\n",
       " (1.026699693974717e-05, (u'i', u'have')),\n",
       " (1.026602610085806e-05, (u'be', u'used')),\n",
       " (1.0224164813536795e-05, (u'set', u'up')),\n",
       " (1.0171130340889511e-05, (u'is', u'not')),\n",
       " (1.017018846752813e-05, (u'the', u'united')),\n",
       " (1.016411865865188e-05, (u'to', u'say')),\n",
       " (1.007226664796458e-05, (u'at', u'once')),\n",
       " (1.0059295555515815e-05, (u'amount', u'of')),\n",
       " (1.0047940268859694e-05, (u'along', u'with')),\n",
       " (9.999426531689436e-06, (u'to', u'be')),\n",
       " (9.964666171149095e-06, (u'to', u'take')),\n",
       " (9.925839239535267e-06, (u'to', u'give')),\n",
       " (9.895604051741707e-06, (u'a', u'good')),\n",
       " (9.782496895687652e-06, (u',', u'however')),\n",
       " (9.779568525436658e-06, (u'enough', u'to')),\n",
       " (9.778531696853165e-06, (u'if', u'we')),\n",
       " (9.75099787875833e-06, (u'would', u'not')),\n",
       " (9.731656522573272e-06, (u'only', u'one')),\n",
       " (9.676369000590742e-06, (u'i', u'could')),\n",
       " (9.663733418861727e-06, (u'he', u\"didn't\")),\n",
       " (9.602143574473823e-06, (u'end', u'of')),\n",
       " (9.53626971532608e-06, (u'to', u'do')),\n",
       " (9.386168446724347e-06, (u'a', u'small')),\n",
       " (9.284239729992464e-06, (u'try', u'to')),\n",
       " (9.199728189848936e-06, (u'be', u'made')),\n",
       " (9.180376028202115e-06, (u'any', u'other')),\n",
       " (9.175357500903048e-06, (u'i', u\"didn't\")),\n",
       " (9.095619867377032e-06, (u'sense', u'of')),\n",
       " (9.001187820299277e-06, (u'it', u'would')),\n",
       " (8.95761512454924e-06, (u'how', u'much')),\n",
       " (8.945877441479051e-06, (u'two', u'years')),\n",
       " (8.892443752915604e-06, (u'so', u'that')),\n",
       " (8.875760652687935e-06, (u'he', u'would')),\n",
       " (8.872814541275487e-06, (u'members', u'of')),\n",
       " (8.85501158235515e-06, (u'to', u'go')),\n",
       " (8.796235211329551e-06, (u'his', u'mind')),\n",
       " (8.495374740419105e-06, (u'believe', u'that')),\n",
       " (8.454660588513394e-06, (u'they', u'could')),\n",
       " (8.450299563119513e-06, (u'series', u'of')),\n",
       " (8.398421096833796e-06, (u'this', u'country')),\n",
       " (8.314855875831486e-06, (u'to', u'find')),\n",
       " (8.311947643165855e-06, (u'at', u'all')),\n",
       " (8.294833575475444e-06, (u'if', u'they')),\n",
       " (8.23152102678727e-06, (u'no', u'more')),\n",
       " (8.17708000028442e-06, (u'when', u'they')),\n",
       " (8.090342993202868e-06, (u'you', u\"don't\")),\n",
       " (8.072476551866645e-06, (u'a', u'man')),\n",
       " (8.048257351077058e-06, (u'attempt', u'to')),\n",
       " (7.98128068980256e-06, (u'?', u'``')),\n",
       " (7.945961007479243e-06, (u'.', u'``')),\n",
       " (7.930530182377793e-06, (u'order', u'to')),\n",
       " (7.905897921478622e-06, (u'this', u'time')),\n",
       " (7.81653039848672e-06, (u'first', u'time')),\n",
       " (7.768505090210743e-06, (u'expected', u'to')),\n",
       " (7.762681684071993e-06, (u'a', u'large')),\n",
       " (7.67879991969099e-06, (u'say', u'that')),\n",
       " (7.670123335583236e-06, (u'followed', u'by')),\n",
       " (7.65000765000765e-06, (u'when', u'she')),\n",
       " (7.64330789144685e-06, (u'he', u'went')),\n",
       " (7.589418529109974e-06, (u'no', u'matter')),\n",
       " (7.574528246298751e-06, (u'use', u'of')),\n",
       " (7.567408140622937e-06, (u\"''\", u'.')),\n",
       " (7.5209051078377455e-06, (u'he', u'has')),\n",
       " (7.491231513513432e-06, (u'i', u'thought')),\n",
       " (7.476769676614758e-06, (u'when', u'i')),\n",
       " (7.454456234443142e-06, (u'are', u'not')),\n",
       " (7.394325654854307e-06, (u'i', u'had')),\n",
       " (7.385698923460525e-06, (u'if', u'he')),\n",
       " (7.363854491388857e-06, (u'this', u'is')),\n",
       " (7.33959160174051e-06, (u'.', u'thus')),\n",
       " (7.336577731041061e-06, (u'so', u'many')),\n",
       " (7.308527815132475e-06, (u'ought', u'to')),\n",
       " (7.307244036375461e-06, (u'a', u'number')),\n",
       " (7.297698670724187e-06, (u'one', u'thing')),\n",
       " (7.256472773714153e-06, (u'to', u'provide')),\n",
       " (7.207049120740007e-06, (u'as', u'though')),\n",
       " (7.207034065247682e-06, (u'she', u'could')),\n",
       " (7.198979801719528e-06, (u'it', u'seemed')),\n",
       " (7.169421854704497e-06, (u'after', u'all')),\n",
       " (7.162344759112734e-06, (u'example', u',')),\n",
       " (7.151785085557355e-06, (u'i', u'saw')),\n",
       " (7.119373914763858e-06, (u'``', u\"it's\")),\n",
       " (7.109984749082713e-06, (u'i', u'said')),\n",
       " (7.085766113032141e-06, (u'she', u'would')),\n",
       " (7.066798944412755e-06, (u',', u'but')),\n",
       " (7.06291482669152e-06, (u'as', u'much')),\n",
       " (7.060312043805205e-06, (u'during', u'the')),\n",
       " (6.983865282122741e-06, (u'was', u'not')),\n",
       " (6.9590702284513635e-06, (u'front', u'of')),\n",
       " (6.936937082953126e-06, (u'a', u'great')),\n",
       " (6.927442988427065e-06, (u'to', u'meet')),\n",
       " (6.905240556432102e-06, (u'was', u'still')),\n",
       " (6.89508711253058e-06, (u'the', u'latter')),\n",
       " (6.89241976741935e-06, (u'across', u'the')),\n",
       " (6.884788420616423e-06, (u'i', u'can')),\n",
       " (6.81696469834831e-06, (u',', u'including')),\n",
       " (6.753313175443873e-06, (u'couple', u'of')),\n",
       " (6.728551027133912e-06, (u'type', u'of')),\n",
       " (6.7117908099149335e-06, (u'as', u'if')),\n",
       " (6.708218490030329e-06, (u'had', u'never')),\n",
       " (6.659691516078773e-06, (u'a', u'moment')),\n",
       " (6.648762369316526e-06, (u'had', u'no')),\n",
       " (6.63586886195955e-06, (u'course', u',')),\n",
       " (6.635646249274687e-06, (u'as', u'possible')),\n",
       " (6.573691751918884e-06, (u'like', u'a')),\n",
       " (6.517150617657694e-06, (u'they', u'have')),\n",
       " (6.510288610790291e-06, (u'you', u'are')),\n",
       " (6.4851089820910075e-06, (u'such', u'a')),\n",
       " (6.482794192736536e-06, (u'out', u'of')),\n",
       " (6.472956956778124e-06, (u'far', u'as')),\n",
       " (6.430005713519363e-06, (u'we', u'were')),\n",
       " (6.428923235372731e-06, (u'the', u'whole')),\n",
       " (6.428497960023314e-06, (u'moreover', u',')),\n",
       " (6.4265104223770424e-06, (u'the', u'first')),\n",
       " (6.337997148535083e-06, (u'could', u'have')),\n",
       " (6.330522932846868e-06, (u'the', u'entire')),\n",
       " (6.325599904080903e-06, (u'in', u'terms')),\n",
       " (6.291141443733079e-06, (u'people', u'who')),\n",
       " (6.265608439087372e-06, (u'who', u'are')),\n",
       " (6.263686757843461e-06, (u'much', u'more')),\n",
       " (6.2489259658496194e-06, (u'interested', u'in')),\n",
       " (6.2397933532863826e-06, (u'was', u'no')),\n",
       " (6.184693502051772e-06, (u'had', u'come')),\n",
       " (6.173911365784955e-06, (u'even', u'more')),\n",
       " (6.173663247565321e-06, (u'difficult', u'to')),\n",
       " (6.128014216992983e-06, (u'and', u'then')),\n",
       " (6.094513718750381e-06, (u'back', u'to')),\n",
       " (6.07192345126105e-06, (u'is', u'still')),\n",
       " (5.985683142457281e-06, (u'a', u'new')),\n",
       " (5.957632212428365e-06, (u'``', u'you')),\n",
       " (5.91077384139462e-06, (u'side', u'of')),\n",
       " (5.910419198036994e-06, (u'what', u'is')),\n",
       " (5.8983522215775e-06, (u'as', u'an')),\n",
       " (5.896829078443552e-06, (u'my', u'own')),\n",
       " (5.810841807477636e-06, (u'respect', u'to')),\n",
       " (5.803709687704558e-06, (u'the', u'next')),\n",
       " (5.8017156792893e-06, (u'they', u'would')),\n",
       " (5.78529609145396e-06, (u'at', u'home')),\n",
       " (5.700786032107986e-06, (u'will', u'not')),\n",
       " (5.6937139770917485e-06, (u'used', u'to')),\n",
       " (5.689877301860183e-06, (u'or', u'even')),\n",
       " (5.6820979820976035e-06, (u'types', u'of')),\n",
       " (5.658368074496458e-06, (u'that', u'they')),\n",
       " (5.653617399788286e-06, (u'due', u'to')),\n",
       " (5.648919644118063e-06, (u'it', u'does')),\n",
       " (5.647647417989123e-06, (u'the', u'world')),\n",
       " (5.6129727025100415e-06, (u'member', u'of')),\n",
       " (5.6060527966338245e-06, (u'but', u'there')),\n",
       " (5.5883957786174416e-06, (u'the', u'door')),\n",
       " (5.558381065930737e-06, (u'you', u'have')),\n",
       " (5.539571121904167e-06, (u'.', u'he')),\n",
       " (5.528036402535799e-06, (u'as', u'a')),\n",
       " (5.524353916944495e-06, (u'i', u'was')),\n",
       " (5.515688397055547e-06, (u'``', u'what')),\n",
       " (5.501696839130384e-06, (u'what', u'they')),\n",
       " (5.483267808283024e-06, (u'when', u'you')),\n",
       " (5.463937152069423e-06, (u'secretary', u'of')),\n",
       " (5.4510882066789875e-06, (u'the', u'end')),\n",
       " (5.439789747315568e-06, (u'.', u'but')),\n",
       " (5.439302786831788e-06, (u'one', u'of')),\n",
       " (5.392738432576062e-06, (u'i', u'knew')),\n",
       " (5.3916021752418975e-06, (u'rest', u'of')),\n",
       " (5.386891211029355e-06, (u'it', u'has')),\n",
       " (5.364620540271859e-06, (u'is', u'no')),\n",
       " (5.321908223412587e-06, (u'``', u'why')),\n",
       " (5.306488849400146e-06, (u'not', u'be')),\n",
       " (5.263013854357671e-06, (u'he', u'asked')),\n",
       " (5.229694729644394e-06, (u'.', u'there')),\n",
       " (5.225213546391001e-06, (u'because', u'of')),\n",
       " (5.223114607265588e-06, (u'terms', u'of')),\n",
       " (5.217100163736682e-06, (u'a', u'long')),\n",
       " (5.21159705614573e-06, (u'but', u'he')),\n",
       " (5.209495521136226e-06, (u'you', u'may')),\n",
       " (5.181513966097852e-06, (u'.', u'if')),\n",
       " (5.133605756678821e-06, (u'long', u'as')),\n",
       " (5.127390777905108e-06, (u'went', u'to')),\n",
       " (5.124603670625494e-06, (u'but', u'also')),\n",
       " (5.122176296696261e-06, (u'on', u'the')),\n",
       " (5.121030716772677e-06, (u'that', u'he')),\n",
       " (5.110359061576012e-06, (u'with', u'a')),\n",
       " (5.0853670929227205e-06, (u'the', u'rest')),\n",
       " (5.081099182088206e-06, (u'to', u'bring')),\n",
       " (5.080438144921589e-06, (u'.', u'she')),\n",
       " (5.079407174368563e-06, (u'ready', u'to')),\n",
       " (5.069060885504108e-06, (u'who', u'have')),\n",
       " (5.064555106607252e-06, (u'close', u'to')),\n",
       " (5.0390116747712245e-06, (u'but', u'i')),\n",
       " (5.001572369313603e-06, (u'``', u\"i'll\")),\n",
       " (4.992622330658809e-06, (u'to', u'tell')),\n",
       " (4.9873098499345595e-06, (u'into', u'the')),\n",
       " (4.986420315341221e-06, (u'willing', u'to')),\n",
       " (4.978403562422666e-06, (u'came', u'to')),\n",
       " (4.976522523155466e-06, (u'need', u'for')),\n",
       " (4.965737621566707e-06, (u'the', u'middle')),\n",
       " (4.9434252444249146e-06, (u'value', u'of')),\n",
       " (4.933411406688007e-06, (u'the', u'past')),\n",
       " (4.9247529024773855e-06, (u'but', u'it')),\n",
       " (4.913161473081162e-06, (u',', u'although')),\n",
       " (4.885389851914502e-06, (u'what', u'he')),\n",
       " (4.874556009190163e-06, (u'a', u'very')),\n",
       " (4.8669446850878205e-06, (u'of', u'god')),\n",
       " (4.865237482884246e-06, (u'throughout', u'the')),\n",
       " (4.857150562847886e-06, (u'which', u'are')),\n",
       " (4.851437566564577e-06, (u'he', u'looked')),\n",
       " (4.848584306624472e-06, (u'to', u'leave')),\n",
       " (4.845613468761475e-06, (u'if', u'i')),\n",
       " (4.737502286755912e-06, (u'who', u'has')),\n",
       " (4.6951921717870436e-06, (u'through', u'the')),\n",
       " (4.68287331071617e-06, (u'therefore', u',')),\n",
       " (4.682444550389842e-06, (u'the', u'best')),\n",
       " (4.678077106914402e-06, (u'it', u'will')),\n",
       " (4.674236852929811e-06, (u'if', u'it')),\n",
       " (4.670960553313495e-06, (u'we', u'should')),\n",
       " (4.6361604499267275e-06, (u'the', u'second')),\n",
       " (4.635124899234316e-06, (u'among', u'the')),\n",
       " (4.604016678434086e-06, (u'the', u'fact')),\n",
       " (4.581528957417013e-06, (u'against', u'the')),\n",
       " (4.5589447811278175e-06, (u'on', u'his')),\n",
       " (4.548171155793547e-06, (u'to', u'help')),\n",
       " (4.541561532671047e-06, (u'``', u'well')),\n",
       " (4.534299243947243e-06, (u'is', u'also')),\n",
       " (4.528010592989101e-06, (u'which', u'is')),\n",
       " (4.525478933470145e-06, (u'the', u'most')),\n",
       " (4.5072379124182e-06, (u'because', u'he')),\n",
       " (4.501168074699015e-06, (u'.', u'i')),\n",
       " (4.469579934211974e-06, (u'of', u'these')),\n",
       " (4.46774211351534e-06, (u'rate', u'of')),\n",
       " (4.4635185470354426e-06, (u'in', u'this')),\n",
       " (4.45138200573338e-06, (u'his', u'hands')),\n",
       " (4.451010384262823e-06, (u'from', u'the')),\n",
       " (4.445258420653026e-06, (u'to', u'pay')),\n",
       " (4.409072036427972e-06, (u'of', u'our')),\n",
       " (4.406884231151247e-06, (u'will', u'have')),\n",
       " (4.397426186453069e-06, (u'the', u'following')),\n",
       " (4.337765535639488e-06, (u'you', u'will')),\n",
       " (4.31686545239822e-06, (u'in', u'which')),\n",
       " (4.312642098002754e-06, (u'most', u'of')),\n",
       " (4.305988284595151e-06, (u';', u'but')),\n",
       " (4.27739281242466e-06, (u'even', u'if')),\n",
       " (4.269931933187979e-06, (u'at', u'the')),\n",
       " (4.2579028806416145e-06, (u'piece', u'of')),\n",
       " (4.246704712985098e-06, (u',', u'though')),\n",
       " (4.243490419392115e-06, (u\"''\", u'--')),\n",
       " (4.24342916874821e-06, (u'some', u'of')),\n",
       " (4.2423251871758525e-06, (u'study', u'of')),\n",
       " (4.238832795001568e-06, (u'3', u')')),\n",
       " (4.2276276610250055e-06, (u'as', u'they')),\n",
       " (4.218396956426596e-06, (u'effort', u'to')),\n",
       " (4.2097464048765706e-06, (u'i', u'would')),\n",
       " (4.199292839085898e-06, (u'a', u'matter')),\n",
       " (4.1962673289876625e-06, (u'the', u'west')),\n",
       " (4.185176896413788e-06, (u'.', u'however')),\n",
       " (4.131667785409411e-06, (u'.', u'it')),\n",
       " (4.090304575765296e-06, (u'source', u'of')),\n",
       " (4.084311455507765e-06, (u'group', u'of')),\n",
       " (4.077355838390167e-06, (u'.', u'when')),\n",
       " (4.047415330646402e-06, (u'.', u'they')),\n",
       " (4.045958161359677e-06, (u'center', u'of')),\n",
       " (4.038298142705918e-06, (u'addition', u'to')),\n",
       " (4.0355074209198185e-06, (u'but', u'they')),\n",
       " (4.014232533995652e-06, (u'the', u'house')),\n",
       " (4.013906502781022e-06, (u'to', u'me')),\n",
       " (4.002086505046892e-06, (u'in', u'the')),\n",
       " (3.999753446777007e-06, (u'way', u'to')),\n",
       " (3.99593233345959e-06, (u'into', u'a')),\n",
       " (3.979637521349097e-06, (u'a', u'series')),\n",
       " (3.9795892593969705e-06, (u'.', u'then')),\n",
       " (3.978306897880386e-06, (u'the', u'old')),\n",
       " (3.9781764330701155e-06, (u'.', u'this')),\n",
       " (3.978102252003685e-06, (u'i', u'do')),\n",
       " (3.960685205428687e-06, (u'necessary', u'to')),\n",
       " (3.960033419535014e-06, (u'said', u',')),\n",
       " (3.946846502534862e-06, (u'development', u'of')),\n",
       " (3.928316088025707e-06, (u'to', u'look')),\n",
       " (3.917590532857122e-06, (u'.', u'yet')),\n",
       " (3.917504039200577e-06, (u'the', u'road')),\n",
       " (3.9138182880048535e-06, (u'the', u'state')),\n",
       " (3.9063873339297085e-06, (u'be', u'taken')),\n",
       " (3.906269941482216e-06, (u'said', u'.')),\n",
       " (3.897443405011174e-06, (u',', u'who')),\n",
       " (3.878434353620131e-06, (u'because', u'it')),\n",
       " (3.877196270137188e-06, (u'variety', u'of')),\n",
       " (3.865827119282803e-06, (u\"''\", u',')),\n",
       " (3.86573198945638e-06, (u'a', u'year')),\n",
       " (3.8620476576680956e-06, (u'b', u')')),\n",
       " (3.860384195291416e-06, (u'the', u'church')),\n",
       " (3.859731422073507e-06, (u'form', u'of')),\n",
       " (3.841718877226924e-06, (u'.', u'mr.')),\n",
       " (3.834568206316812e-06, (u'interest', u'in')),\n",
       " (3.834186246577766e-06, (u'matter', u'of')),\n",
       " (3.831103807060328e-06, (u'were', u'not')),\n",
       " (3.830258274315437e-06, (u'was', u'going')),\n",
       " (3.8268878770705906e-06, (u'it', u'may')),\n",
       " (3.825189458083333e-06, (u'in', u'his')),\n",
       " (3.7942776164296362e-06, (u'of', u'the')),\n",
       " (3.7878630051162664e-06, (u'.', u'although')),\n",
       " (3.7650006461970495e-06, (u'the', u'ground')),\n",
       " (3.7189903354460413e-06, (u'a', u'certain')),\n",
       " (3.717092061741329e-06, (u'of', u'them')),\n",
       " (3.714550237046709e-06, (u',', u'and')),\n",
       " (3.7137594215219785e-06, (u'should', u'have')),\n",
       " (3.710522688962785e-06, (u'a', u'result')),\n",
       " (3.701559630912028e-06, (u'come', u'to')),\n",
       " (3.6845576504312776e-06, (u'.', u'moreover')),\n",
       " (3.6729138567511957e-06, (u'the', u'city')),\n",
       " (3.6703029016285417e-06, (u'shown', u'in')),\n",
       " (3.661796477351789e-06, (u'department', u'of')),\n",
       " (3.657474664694139e-06, (u'the', u'last')),\n",
       " (3.653848457513998e-06, (u'over', u'the')),\n",
       " (3.634866077924891e-06, (u'in', u'their')),\n",
       " (3.6305020258201306e-06, (u'that', u'we')),\n",
       " (3.629027762511335e-06, (u'the', u'president')),\n",
       " (3.614865519549342e-06, (u',', u'then')),\n",
       " (3.5927283178846014e-06, (u'a', u'big')),\n",
       " (3.5855480588154597e-06, (u'they', u'can')),\n",
       " (3.583829735779593e-06, (u'.', u'we')),\n",
       " (3.582697567661593e-06, (u'between', u'the')),\n",
       " (3.5768273452027367e-06, (u'where', u'he')),\n",
       " (3.5686100320610626e-06, (u'.', u'these')),\n",
       " (3.5646127977884757e-06, (u'me', u\"''\")),\n",
       " (3.5543962957859005e-06, (u'toward', u'the')),\n",
       " (3.5494480471015285e-06, (u'with', u'his')),\n",
       " (3.516789790474902e-06, (u'the', u'secretary')),\n",
       " (3.5128404153132864e-06, (u'oh', u',')),\n",
       " (3.5032420315475702e-06, (u'within', u'the')),\n",
       " (3.4935108036821605e-06, (u'the', u'kitchen')),\n",
       " (3.493450948444459e-06, (u'by', u'the')),\n",
       " (3.491132523390588e-06, (u'then', u'he')),\n",
       " (3.4843316281076894e-06, (u'is', u'a')),\n",
       " (3.480935587546507e-06, (u'go', u'to')),\n",
       " (3.470544547262758e-06, (u'which', u'he'))]"
      ]
     },
     "execution_count": 25,
     "metadata": {},
     "output_type": "execute_result"
    }
   ],
   "source": [
    "delta = 50  # You can play with this hyperparameter to see how it affects the results.\n",
    "unigrams, bigrams = word_utils.unigram_and_bigram_counts(words)\n",
    "scored_bigrams = sorted(\n",
    "    [(word_stream.score_bigram(bigram, unigrams, bigrams, delta), bigram) for bigram in bigrams],\n",
    "    reverse=True)\n",
    "scored_bigrams[0:500]"
   ]
  },
  {
   "cell_type": "markdown",
   "metadata": {},
   "source": [
    "This next cell uses the scores computed above and calls grouped_stream which takes a list of words and a set of n-grams and returns the list of words with those n-grams combined into single tokens.\n",
    "\n",
    "e.g. ['the', 'supreme', 'court'] => ['the', 'supreme_court']\n",
    "\n",
    "(You can find more examples in the tests for the function in word_stream_test.py.)"
   ]
  },
  {
   "cell_type": "code",
   "execution_count": 9,
   "metadata": {
    "collapsed": false
   },
   "outputs": [],
   "source": [
    "# You can leave this cell alone.\n",
    "\n",
    "# If you want to come back afterwards, you can experiment with different phrase_thresholds.\n",
    "# You should set phrase_threshold to a value at which the bigrams in the previous\n",
    "# output start looking less tightly coupled.  grouped_stream below will re-tokenize\n",
    "# a stream of words to consider bigrams scoring above phrase_threshold as a single token.\n",
    "\n",
    "phrase_threshold = 1.0\n",
    "phrases = [bigram for score, bigram in scored_bigrams if score >= phrase_threshold]\n",
    "words = word_utils.grouped_stream(words, phrases)"
   ]
  },
  {
   "cell_type": "code",
   "execution_count": 10,
   "metadata": {
    "collapsed": true
   },
   "outputs": [],
   "source": [
    "# Cleanup some variables to recover some memory.\n",
    "del unigrams\n",
    "del bigrams\n",
    "del scored_bigrams\n",
    "del phrases"
   ]
  },
  {
   "cell_type": "markdown",
   "metadata": {},
   "source": [
    "## 3. TensorFlow for GloVe\n",
    "\n",
    "### Cooccurrence Table\n",
    "In this section, we first build the cooccurrence table with context window of size C."
   ]
  },
  {
   "cell_type": "code",
   "execution_count": 11,
   "metadata": {
    "collapsed": false
   },
   "outputs": [],
   "source": [
    "VOCAB_SIZE = 20000  # Amount of vocabulary to keep.  Lower frequency words are mapped to <UNK> (word id: 0).\n",
    "\n",
    "# Map each of the words to a wordid.  Only the most popular VOCAB_SIZE words are kept.\n",
    "vocabulary = word_utils.Vocabulary(words, VOCAB_SIZE)"
   ]
  },
  {
   "cell_type": "code",
   "execution_count": 12,
   "metadata": {
    "collapsed": true
   },
   "outputs": [],
   "source": [
    "# Convert the word stream to wordids.\n",
    "# We need to do this because the TensorFlow code you will write in the\n",
    "# next section will use an API that expects indexes into the embedding\n",
    "# matrix, not words.\n",
    "wordids = [vocabulary.to_id(word) for word in words]"
   ]
  },
  {
   "cell_type": "code",
   "execution_count": 14,
   "metadata": {
    "collapsed": true
   },
   "outputs": [],
   "source": [
    "# Building the cooccurrence table takes a considerable amount of time\n",
    "# with the Wikipedia set.\n",
    "\n",
    "C = 10  # Context window size.\n",
    "ctable = word_stream.cooccurrence_table(wordids, C)"
   ]
  },
  {
   "cell_type": "code",
   "execution_count": 15,
   "metadata": {
    "collapsed": false,
    "scrolled": true
   },
   "outputs": [
    {
     "data": {
      "text/plain": [
       "[(u'of', u'the', 22187.71547619093),\n",
       " (u'the', u'of', 22187.71547619093),\n",
       " (u'.', u'the', 17805.282142859643),\n",
       " (u'the', u'.', 17805.282142859643),\n",
       " (u',', u'the', 16941.070634924017),\n",
       " (u'the', u',', 16939.42777778116),\n",
       " (u',', '<UNK>', 16120.215476192945),\n",
       " ('<UNK>', u',', 16119.501587304056),\n",
       " (u'the', u'the', 15484.114285719763),\n",
       " (u',', u',', 15118.108730162476)]"
      ]
     },
     "execution_count": 15,
     "metadata": {},
     "output_type": "execute_result"
    }
   ],
   "source": [
    "# Output top words occurring within the same context.\n",
    "# If everything has worked properly, you should see a considerable number of \"<UNK>\", \"the\", \"of\", and numbers.\n",
    "sorted([(vocabulary.to_word(word), vocabulary.to_word(context_word), count) for word, context_word, count in ctable if count > len(words) / 100], key=lambda x: x[2], reverse=True)[:10]"
   ]
  },
  {
   "cell_type": "code",
   "execution_count": 26,
   "metadata": {
    "collapsed": false
   },
   "outputs": [],
   "source": [
    "# Shard the table into word lists, context word lists and corresponding counts.\n",
    "# We are going to provide these to TensorFlow as their own entry in the feed_dict,\n",
    "# so we do this separation once, up front.\n",
    "ctable_wids = np.array([word for word, _, _ in ctable])\n",
    "ctable_cwids = np.array([context_word for _, context_word, _ in ctable])\n",
    "ctable_counts = np.array([count for _, _, count in ctable])"
   ]
  },
  {
   "cell_type": "code",
   "execution_count": 29,
   "metadata": {
    "collapsed": false
   },
   "outputs": [
    {
     "data": {
      "text/plain": [
       "[(0, 0, 12324.545238096805),\n",
       " (0, 1, 284.87619047619023),\n",
       " (0, 2, 1.0523809523809524),\n",
       " (0, 3, 1.5833333333333333),\n",
       " (0, 4, 0.75)]"
      ]
     },
     "execution_count": 29,
     "metadata": {},
     "output_type": "execute_result"
    }
   ],
   "source": [
    "# Here is what our final data looks like.  It's similar to the table two\n",
    "# cells previous, except instead of words, there are wordids.\n",
    "zip(ctable_wids[:5], ctable_cwids[:5], ctable_counts[:5])"
   ]
  },
  {
   "cell_type": "markdown",
   "metadata": {},
   "source": [
    "### TensorFlow Graph Setup (12 points)\n",
    "\n",
    "Complete the functions in **glove.py** using the TensorFlow API and then run the corresponding tests in the cells below."
   ]
  },
  {
   "cell_type": "code",
   "execution_count": 158,
   "metadata": {
    "collapsed": false
   },
   "outputs": [
    {
     "name": "stderr",
     "output_type": "stream",
     "text": [
      "test_embedding_lookup (glove_test.TestGlove) ... ok\n",
      "\n",
      "----------------------------------------------------------------------\n",
      "Ran 1 test in 0.022s\n",
      "\n",
      "OK\n"
     ]
    },
    {
     "data": {
      "text/plain": [
       "<unittest.runner.TextTestResult run=1 errors=0 failures=0>"
      ]
     },
     "execution_count": 158,
     "metadata": {},
     "output_type": "execute_result"
    }
   ],
   "source": [
    "reload(glove)\n",
    "reload(glove_test)\n",
    "unittest.TextTestRunner(verbosity=2).run(\n",
    "    unittest.TestLoader().loadTestsFromName(\n",
    "        'TestGlove.test_embedding_lookup', glove_test))"
   ]
  },
  {
   "cell_type": "code",
   "execution_count": 159,
   "metadata": {
    "collapsed": false
   },
   "outputs": [
    {
     "name": "stderr",
     "output_type": "stream",
     "text": [
      "test_example_weight (glove_test.TestGlove) ... ok\n",
      "\n",
      "----------------------------------------------------------------------\n",
      "Ran 1 test in 0.015s\n",
      "\n",
      "OK\n"
     ]
    },
    {
     "data": {
      "text/plain": [
       "<unittest.runner.TextTestResult run=1 errors=0 failures=0>"
      ]
     },
     "execution_count": 159,
     "metadata": {},
     "output_type": "execute_result"
    }
   ],
   "source": [
    "reload(glove)\n",
    "reload(glove_test)\n",
    "unittest.TextTestRunner(verbosity=2).run(\n",
    "    unittest.TestLoader().loadTestsFromName(\n",
    "        'TestGlove.test_example_weight', glove_test))"
   ]
  },
  {
   "cell_type": "code",
   "execution_count": 171,
   "metadata": {
    "collapsed": false
   },
   "outputs": [
    {
     "name": "stderr",
     "output_type": "stream",
     "text": [
      "test_loss (glove_test.TestGlove) ... "
     ]
    },
    {
     "name": "stdout",
     "output_type": "stream",
     "text": [
      "[  60.51117706  690.92352295] (2,)\n"
     ]
    },
    {
     "name": "stderr",
     "output_type": "stream",
     "text": [
      "ok\n",
      "\n",
      "----------------------------------------------------------------------\n",
      "Ran 1 test in 0.039s\n",
      "\n",
      "OK\n"
     ]
    },
    {
     "data": {
      "text/plain": [
       "<unittest.runner.TextTestResult run=1 errors=0 failures=0>"
      ]
     },
     "execution_count": 171,
     "metadata": {},
     "output_type": "execute_result"
    }
   ],
   "source": [
    "reload(glove)\n",
    "reload(glove_test)\n",
    "unittest.TextTestRunner(verbosity=2).run(\n",
    "    unittest.TestLoader().loadTestsFromName(\n",
    "        'TestGlove.test_loss', glove_test))"
   ]
  },
  {
   "cell_type": "code",
   "execution_count": 170,
   "metadata": {
    "collapsed": false
   },
   "outputs": [],
   "source": [
    "# Hyperparameters.\n",
    "\n",
    "# You may want to shrink num_examples_to_train to finish debugging\n",
    "# and only run it this long once you are training on Wikipedia.\n",
    "learning_rate = 0.003\n",
    "num_examples_to_train = 10\n",
    "batch_size = 100\n",
    "embedding_dim = 300\n",
    "\n",
    "# Construct the training graph.\n",
    "tf.reset_default_graph()\n",
    "\n",
    "wids_ph = tf.placeholder(tf.int32, shape=[None])\n",
    "c_wids_ph = tf.placeholder(tf.int32, shape=[None])\n",
    "counts_ph = tf.placeholder(tf.float32, shape=[None])\n",
    "\n",
    "with tf.variable_scope('word_embeddings'):\n",
    "    word_embeddings, word_bias, word_embed_matrix = (\n",
    "        glove.wordids_to_tensors(wids_ph, embedding_dim, vocabulary.size()))\n",
    "with tf.variable_scope('word_context_embeddings'):\n",
    "    word_context_embeddings, word_context_bias, word_context_embed_matrix = (\n",
    "        glove.wordids_to_tensors(c_wids_ph, embedding_dim, vocabulary.size()))\n",
    "    \n",
    "losses = glove.loss(\n",
    "    word_embeddings, word_bias, word_context_embeddings, word_context_bias,\n",
    "    tf.cast(counts_ph, tf.float32))\n",
    "loss = tf.reduce_mean(losses)\n",
    "\n",
    "# Adam is similar to AdaGrad in that it handles sparse gradients well.\n",
    "# Specifically, you may imagine that some words appear with more context\n",
    "# words than others and with bigger counts.  They therefore are updated\n",
    "# more often and more aggressively (remember the weighting function\n",
    "# you implemented).  Adam backs off updating parameters that it has already\n",
    "# significantly moved around.  (intuitively: the 500th time you backprop\n",
    "# into \"the\", you probably don't have a lot more information to add).\n",
    "#\n",
    "# Here is the original University of Toronto paper detailing the word\n",
    "# done in collaboration with Google DeepMind.\n",
    "# https://arxiv.org/pdf/1412.6980v8.pdf\n",
    "optimizer = tf.train.AdamOptimizer(learning_rate=learning_rate)\n",
    "train_op = optimizer.minimize(loss)"
   ]
  },
  {
   "cell_type": "markdown",
   "metadata": {},
   "source": [
    "### Train the Embeddings"
   ]
  },
  {
   "cell_type": "code",
   "execution_count": 168,
   "metadata": {
    "collapsed": false
   },
   "outputs": [],
   "source": [
    "# Train the embeddings.\n",
    "# Set up the session & initialize variables.\n",
    "sess = tf.Session()\n",
    "sess.run(tf.initialize_all_variables())"
   ]
  },
  {
   "cell_type": "code",
   "execution_count": 169,
   "metadata": {
    "collapsed": false,
    "scrolled": true
   },
   "outputs": [
    {
     "name": "stdout",
     "output_type": "stream",
     "text": [
      "# training examples: 4923888\n",
      "# of epochs: 2.03091540669e-06\n",
      "# batches: 1\n",
      "Initial loss: 6.0561e-08\n",
      "0 : 5.43785e-08\n"
     ]
    }
   ],
   "source": [
    "# Important note:  You do not need to run this cell to completion.\n",
    "# Let it train for 30 minutes or so, then interrupt the kernel and see how good\n",
    "# the nearest-neighbors results look.  Run this cell again to pick up from where\n",
    "# you left off.\n",
    "\n",
    "# An hour on the recommended GCE cloud instance gets reasonably good results.\n",
    "# Two hours cleans up the vectors beautifully.\n",
    "\n",
    "REPORT_LOSS_EVERY = 1000\n",
    "EVAL_BATCH_SIZE = 5000\n",
    "\n",
    "indexes = range(len(ctable_wids))\n",
    "\n",
    "def make_feed_dict(feed_dict_batch_size):\n",
    "    batch_idx = random.sample(indexes, feed_dict_batch_size)\n",
    "    batch_wids = ctable_wids[batch_idx]\n",
    "    batch_cwids = ctable_cwids[batch_idx]\n",
    "    batch_counts = ctable_counts[batch_idx]\n",
    "    return {\n",
    "        wids_ph: batch_wids,\n",
    "        c_wids_ph: batch_cwids,\n",
    "        counts_ph: batch_counts\n",
    "    }\n",
    "\n",
    "num_batches = num_examples_to_train / batch_size + 1\n",
    "\n",
    "print '# training examples:', len(ctable_wids)\n",
    "print '# of epochs:', 1.0 * num_examples_to_train / len(ctable_wids)\n",
    "print '# batches:', num_batches\n",
    "print 'Initial loss:', sess.run(loss, feed_dict=make_feed_dict(EVAL_BATCH_SIZE))\n",
    "\n",
    "current_timer = None\n",
    "for batch in xrange(num_batches):\n",
    "    # Train based on randomly sampled batches of examples.\n",
    "    loss_val, _ = sess.run([loss, train_op], feed_dict=make_feed_dict(batch_size))\n",
    "    \n",
    "    # Do some basic reporting as training progresses.\n",
    "    if batch % REPORT_LOSS_EVERY == 0:\n",
    "        if current_timer:\n",
    "            remaining_reporting_cycles = 1.0 * (num_batches - batch) / REPORT_LOSS_EVERY\n",
    "            cycle_time = time.time() - current_timer\n",
    "            print 'Expected time left:', remaining_reporting_cycles * cycle_time / 60 / 60, 'hours (', cycle_time, 'seconds per', REPORT_LOSS_EVERY, 'batches).'\n",
    "        current_timer = time.time()\n",
    "            \n",
    "        print batch, ':', sess.run(loss, feed_dict=make_feed_dict(EVAL_BATCH_SIZE))"
   ]
  },
  {
   "cell_type": "markdown",
   "metadata": {},
   "source": [
    "## Play! (1 point)\n",
    "\n",
    "Congratulations!  You now have some embeddings.  We only trained a short while over not a lot of text, but these still work reasonably well.\n",
    "\n",
    "If you want more compelling vectors, scroll back up to the top of this notebook and follow the instructions to switch the data source to Wikipedia and execute it again.  Note:  training these vectors for a long time is **not required**, but since you've gotten this far, it takes almost no additional effort to see the result of your hard work below.  The longer you run on the Wikipedia set, the nicer your word vectors will be.  As noted in the previous cell, you can let it run for a while, interrupt the kernel, see how things look, and then run that cell again to have it pick up from where it left off.\n",
    "\n",
    "We have a number of suggestions below to get you started exploring the space.  Feel free to try some of your own."
   ]
  },
  {
   "cell_type": "code",
   "execution_count": null,
   "metadata": {
    "collapsed": true
   },
   "outputs": [],
   "source": [
    "def find_nn_cos(v, Wv, k=10):\n",
    "    \"\"\"Find nearest neighbors, by cosine distance.\"\"\"\n",
    "    Z = np.linalg.norm(Wv, axis=1) * np.linalg.norm(v)\n",
    "    ds = np.dot(Wv, v.T) / Z\n",
    "    nns = np.argsort(-1*ds)[:k]  # sort descending, take best\n",
    "    return nns, ds[nns]  # word indices, distances\n",
    "\n",
    "def show_nns(v, Wv, vocabulary, k=10):\n",
    "    print \"Nearest neighbors:\"\n",
    "    for i, d in zip(*find_nn_cos(v, Wv, k)):\n",
    "        w = vocabulary.to_word(i)\n",
    "        print \"%.03f : \\\"%s\\\"\" % (d, w)\n",
    "        \n",
    "def word_show_nns(word, Wv, vocabulary, k=10):\n",
    "    show_nns(Wv[vocabulary.to_id(word)], Wv, vocabulary, k)"
   ]
  },
  {
   "cell_type": "code",
   "execution_count": null,
   "metadata": {
    "collapsed": false
   },
   "outputs": [],
   "source": [
    "word_embed_matrix_val, word_context_embed_matrix_val = sess.run([word_embed_matrix, word_context_embed_matrix])\n",
    "\n",
    "# As per the paper, we take the average of the word's vector when it's the center word of the window\n",
    "# and the vector when it's found in the context.\n",
    "#\n",
    "# There is some (handwave-y) motivation for why we do this in section 4.2 of GloVe.\n",
    "Wv = word_embed_matrix_val + word_context_embed_matrix_val"
   ]
  },
  {
   "cell_type": "code",
   "execution_count": null,
   "metadata": {
    "collapsed": false
   },
   "outputs": [],
   "source": [
    "word_show_nns('one', Wv, vocabulary)"
   ]
  },
  {
   "cell_type": "code",
   "execution_count": null,
   "metadata": {
    "collapsed": false
   },
   "outputs": [],
   "source": [
    "word_show_nns('king', Wv, vocabulary)"
   ]
  },
  {
   "cell_type": "code",
   "execution_count": null,
   "metadata": {
    "collapsed": false
   },
   "outputs": [],
   "source": [
    "word_show_nns('car', Wv, vocabulary)"
   ]
  },
  {
   "cell_type": "code",
   "execution_count": null,
   "metadata": {
    "collapsed": false
   },
   "outputs": [],
   "source": [
    "word_show_nns('computer', Wv, vocabulary)"
   ]
  },
  {
   "cell_type": "code",
   "execution_count": null,
   "metadata": {
    "collapsed": false
   },
   "outputs": [],
   "source": [
    "word_show_nns('college', Wv, vocabulary)"
   ]
  }
 ],
 "metadata": {
  "anaconda-cloud": {},
  "kernelspec": {
   "display_name": "Python [conda root]",
   "language": "python",
   "name": "conda-root-py"
  },
  "language_info": {
   "codemirror_mode": {
    "name": "ipython",
    "version": 2
   },
   "file_extension": ".py",
   "mimetype": "text/x-python",
   "name": "python",
   "nbconvert_exporter": "python",
   "pygments_lexer": "ipython2",
   "version": "2.7.12"
  }
 },
 "nbformat": 4,
 "nbformat_minor": 0
}
